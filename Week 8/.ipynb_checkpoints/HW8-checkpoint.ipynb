{
 "cells": [
  {
   "cell_type": "markdown",
   "id": "33ed2f5b",
   "metadata": {},
   "source": [
    "## HW8"
   ]
  },
  {
   "cell_type": "markdown",
   "id": "6b2754f8",
   "metadata": {},
   "source": [
    "Consider the following example with 7 states: \n",
    "\n",
    "F - A - B - C - D - E - S\n",
    "\n",
    "Here, F and S corresponds to the terminal states. On each state, we can choose either to move to the left, or move to the right. Rewards is 0 if we move from E to S and -1 otherwise. The initial location is given by state C, in the middle. \n",
    "\n",
    "* You will apply the REINFORCE algorithm (P25, Lecture 8) to this example to compute an optimal policy. Specifically, since the action is binary, we consider using Example 3 to parametrize (P22, Lecture 8) the policy class. The feature function $\\phi(s)$ can be set to a table lookup function, e.g., $\\phi(s)=[I(s=s_1), I(s=s_2), \\cdots, I(s=s_7)]$ where $(s_1,\\cdots,s_7)$ corresponds to the state space. You may fix the step size $\\alpha$ to 0.1. \n",
    "\n",
    "* Consider generating 1000 episodes to learn the optimal policy. In each episode, compute the return. This yields a total of 1000 returns. Repeat this procedure 100 times and compute the average return for each episode, aggregated over 100 replications. \n",
    "\n",
    "* As we have discussed in the lecture, the expected value of the policy score is equal to zero. As such, we can add a baseline term to the return $G_t$ to reduce the variance of the gradient. Under the current setting, the return is at most $-2$. We may replace $G_t$ in the REINFORCE algorithm with $G_t+2$. The resulting gradient is expected to have a smaller variance. Repeat the procedure in Step 2 for this algorithm and compute the average return for each of the 1000 episodes. \n",
    "\n",
    "* Plot the 2000 average returns obtained in Steps 2 and 3. "
   ]
  },
  {
   "cell_type": "code",
   "execution_count": 1,
   "id": "65d79a5d-8fb8-47c3-a1c4-b685ad9bfa9a",
   "metadata": {},
   "outputs": [],
   "source": [
    "import numpy as np\n",
    "import matplotlib.pyplot as plt"
   ]
  },
  {
   "cell_type": "code",
   "execution_count": 2,
   "id": "cf5913b3-e8f3-4a51-8a66-23f269b9d985",
   "metadata": {},
   "outputs": [],
   "source": [
    "class Agent:\n",
    "    def __init__(self, init_s):\n",
    "        self.init = init_s\n",
    "        self.s = init_s\n",
    "        self.phi_s = np.array([0 for s in S])\n",
    "        self.phi_s[init_s] = 1\n",
    "        self.r = 0\n",
    "        self.done = False\n",
    "        \n",
    "        \n",
    "    # Policy approximator\n",
    "    def policy(self, theta):\n",
    "        p = log_func(np.dot(self.phi_s, theta))\n",
    "        if np.random.random() <= p:\n",
    "            return 1\n",
    "        else:\n",
    "            return 0\n",
    "\n",
    "    # Performs a step of the agent\n",
    "    def step(self, a):\n",
    "        self.phi_s[self.s] = 0\n",
    "        self.r = -1\n",
    "        self.done = False\n",
    "        \n",
    "        if a == 1 and self.s == 5:\n",
    "            self.r = 0\n",
    "            self.s = 6\n",
    "            self.done = True\n",
    "        elif self.s == 1 and a == 0:\n",
    "            self.s = 0\n",
    "            self.done = True\n",
    "        elif a == 1:\n",
    "            self.s = self.s + 1\n",
    "        elif a == 0:\n",
    "            self.s = self.s - 1\n",
    "\n",
    "        self.phi_s[self.s] = 1\n",
    "        return self.s, self.r, self.done\n",
    "    \n",
    "    def reset(self):\n",
    "        self.s = self.init\n",
    "        self.phi_s = np.array([0 for s in S])\n",
    "        self.phi_s[self.init] = 1\n",
    "        self.r = 0.0\n",
    "        self.done = False\n",
    "        return self.s\n",
    "\n",
    "# Logistic function\n",
    "def log_func(x):\n",
    "    num = (1 + np.exp(-x))**(-1)\n",
    "    return num\n",
    "    \n",
    "# Policy score\n",
    "def policy_score(s, a, theta):\n",
    "    phi_s = np.array([0 for s in S])\n",
    "    phi_s[s] = 1\n",
    "    p = log_func(np.dot(phi_s, theta))\n",
    "    gradient_vec = (a - p) * phi_s\n",
    "    \n",
    "    return gradient_vec"
   ]
  },
  {
   "cell_type": "code",
   "execution_count": 3,
   "id": "afcf6395",
   "metadata": {},
   "outputs": [],
   "source": [
    "# Initialisation\n",
    "alpha = 0.1\n",
    "S = ['F', 'A', 'B', 'C', 'D', 'E', 'S']"
   ]
  },
  {
   "cell_type": "markdown",
   "id": "7cc43941-51be-42d1-b9e0-23f3a605b634",
   "metadata": {},
   "source": [
    "### Step 2\n",
    "Consider generating 1000 episodes to learn the optimal policy. In each episode, compute the return. This yields a total of 1000 returns. Repeat this procedure 100 times and compute the average return for each episode, aggregated over 100 replications. "
   ]
  },
  {
   "cell_type": "code",
   "execution_count": 4,
   "id": "0c57cb99-3f52-4faf-9811-fec1e13065f7",
   "metadata": {},
   "outputs": [],
   "source": [
    "episodes = 1000\n",
    "iterations = 100\n",
    "R_tot = {}\n",
    "env = Agent(3)\n",
    "for it in range(iterations):\n",
    "    theta = np.array([0 for s in S])\n",
    "    for ep in range(episodes):  \n",
    "        state = env.reset()  \n",
    "        done = False  \n",
    "        D = []\n",
    "    \n",
    "        while not done:\n",
    "            a = env.policy(theta)\n",
    "            next_state, r, done = env.step(a)\n",
    "            D.append([state, a, r])\n",
    "            state = next_state\n",
    "    \n",
    "        counter = 0\n",
    "        for s, a, r in D:\n",
    "            G = sum(D[t][2] for t in range(counter, len(D)))\n",
    "            theta = theta + alpha * policy_score(s, a, theta) * G\n",
    "            counter += 1\n",
    "        R_tot[it, ep] = sum(D[t][2] for t in range(0, len(D)))\n",
    "\n",
    "# Aggregated average\n",
    "G_aggregated = []\n",
    "for ep in range(episodes):\n",
    "    G_aggregated.append(sum(R_tot[it, ep] for it in range(100))/100)"
   ]
  },
  {
   "cell_type": "markdown",
   "id": "8d9179a3-6eb5-480a-af2f-b9dde1f9eb0d",
   "metadata": {},
   "source": [
    "### Step 3\n",
    "As we have discussed in the lecture, the expected value of the policy score is equal to zero. As such, we can add a baseline term to the return $G_t$ to reduce the variance of the gradient. Under the current setting, the return is at most $-2$. We may replace $G_t$ in the REINFORCE algorithm with $G_t+2$. The resulting gradient is expected to have a smaller variance. Repeat the procedure in Step 2 for this algorithm and compute the average return for each of the 1000 episodes. "
   ]
  },
  {
   "cell_type": "code",
   "execution_count": 5,
   "id": "bdec721d-15a1-4961-9ccb-3d74c93d11a6",
   "metadata": {},
   "outputs": [],
   "source": [
    "episodes = 1000\n",
    "iterations = 100\n",
    "R_tot = {}\n",
    "baseline = 2\n",
    "env = Agent(3)\n",
    "for it in range(iterations):\n",
    "    theta = np.array([0 for s in S])\n",
    "    for ep in range(episodes):  \n",
    "        state = env.reset()  \n",
    "        done = False  \n",
    "        D = []\n",
    "    \n",
    "        while not done:\n",
    "            a = env.policy(theta)\n",
    "            next_state, r, done = env.step(a)\n",
    "            D.append([state, a, r])\n",
    "            state = next_state\n",
    "    \n",
    "        counter = 0\n",
    "        for s, a, r in D:\n",
    "            G = sum(D[t][2] for t in range(counter, len(D))) + baseline\n",
    "            theta = theta + alpha * policy_score(s, a, theta) * G\n",
    "            counter += 1\n",
    "        R_tot[it, ep] = sum(D[t][2] for t in range(0, len(D)))\n",
    "        \n",
    "# Aggregated average\n",
    "G_aggregated2 = []\n",
    "for ep in range(episodes):\n",
    "    G_aggregated2.append(sum(R_tot[it, ep] for it in range(100))/100)"
   ]
  },
  {
   "cell_type": "markdown",
   "id": "965bc85c-82d6-43f7-8c3e-c5bc045435b1",
   "metadata": {},
   "source": [
    "* Plot the 2000 average returns obtained in Steps 2 and 3. "
   ]
  },
  {
   "cell_type": "code",
   "execution_count": 8,
   "id": "a439f08f-2894-446c-8b00-7f53dc525688",
   "metadata": {},
   "outputs": [
    {
     "data": {
      "image/png": "[encoded data removed]",
      "text/plain": [
       "<Figure size 640x480 with 1 Axes>"
      ]
     },
     "metadata": {},
     "output_type": "display_data"
    }
   ],
   "source": [
    "plt.plot(G_aggregated, label = 'Without baseline')\n",
    "plt.plot(G_aggregated2, label = 'With baseline')\n",
    "plt.xlabel('Episode')\n",
    "plt.ylabel('Average return')\n",
    "plt.title('Average return for each episode')\n",
    "plt.legend()\n",
    "plt.show()"
   ]
  },
  {
   "cell_type": "code",
   "execution_count": null,
   "id": "38ef7431-8687-4b87-90a2-293e6d9bc5e2",
   "metadata": {},
   "outputs": [],
   "source": []
  }
 ],
 "metadata": {
  "kernelspec": {
   "display_name": "Python 3 (ipykernel)",
   "language": "python",
   "name": "python3"
  },
  "language_info": {
   "codemirror_mode": {
    "name": "ipython",
    "version": 3
   },
   "file_extension": ".py",
   "mimetype": "text/x-python",
   "name": "python",
   "nbconvert_exporter": "python",
   "pygments_lexer": "ipython3",
   "version": "3.9.18"
  }
 },
 "nbformat": 4,
 "nbformat_minor": 5
}
