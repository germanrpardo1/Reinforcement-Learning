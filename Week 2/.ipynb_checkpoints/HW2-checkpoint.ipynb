{
 "cells": [
  {
   "cell_type": "markdown",
   "id": "professional-priority",
   "metadata": {},
   "source": [
    "## HW2\n",
    "\n",
    "Consider a $k$th-order Markov decision process model that satisfies the $k$th-order Markov assumption and the time-homogeneity assumption, for some integer $k\\ge 1$. Specifically, the $k$th-order Markov assumption requires the conditional distribution of $(S_{t+k},R_{t+k-1})$ to be conditionally independent of the data history given $(A_{t+k-1},S_{t+k-1})$ and observations collected between time $t$ and $t+k-2$. When $k=1$, it is reduced to the standard Markov assumption. The time homogeneity requires this conditional distribution to be stationary over time. Please discuss the form of the optimal policy under this model and justify your answer."
   ]
  },
  {
   "cell_type": "markdown",
   "id": "f7cc3389",
   "metadata": {},
   "source": [
    "## your answer here"
   ]
  },
  {
   "cell_type": "markdown",
   "id": "9387c303",
   "metadata": {},
   "source": [
    "When the Markov assumption holds for $k=1$ we have the standard form and a stationary optimal policy (independent of the history), i.e., $\\pi^{opt}(s)$ exists for every $s \\in S$. On the other hand, when we have HMDPs or more specifically, $k$th-order MDPs the actual state reward $R_t$ depend on states $\\{S_{t-j}\\}_{j\\leq k}$ and therefore we can concatenate the observations over $k$ time steps and a state variables $S(k)$ for each integer $k$ must be defined in the form: $S_t(k)=(S_t, A_t, S_{t+1}, A_{t+1}, ..., S_{t+k-1})$ where each new process formed by these state variables (dependening on $k$) satisfie the Markov assumption.\n",
    "\n",
    "\n",
    "Taking that into account, one can argue that $k$ new processes are formed for which each hold the Markov assumption and from each process one optimal stationary policy can be obtained: $\\pi^{opt}\\in \\text{SR}(k)$, where $\\text{SR}(k)$ is the class of stationary policies for which $\\pi_t$ only depend on states $S_t$ to $S_{t-k}$.\n",
    "\n",
    "In $k$-th-order MDPs the optimal policy is a set of optimal stationary policies for each $k$."
   ]
  },
  {
   "cell_type": "code",
   "execution_count": null,
   "id": "5cdf27f5",
   "metadata": {},
   "outputs": [],
   "source": []
  }
 ],
 "metadata": {
  "kernelspec": {
   "display_name": "Python 3 (ipykernel)",
   "language": "python",
   "name": "python3"
  },
  "language_info": {
   "codemirror_mode": {
    "name": "ipython",
    "version": 3
   },
   "file_extension": ".py",
   "mimetype": "text/x-python",
   "name": "python",
   "nbconvert_exporter": "python",
   "pygments_lexer": "ipython3",
   "version": "3.9.7"
  }
 },
 "nbformat": 4,
 "nbformat_minor": 5
}
